{
 "cells": [
  {
   "cell_type": "code",
   "execution_count": null,
   "id": "043ea6aa-f566-4b6f-aa88-60c773ee87d2",
   "metadata": {},
   "outputs": [],
   "source": [
    "#some script here"
   ]
  }
 ],
 "metadata": {
  "kernelspec": {
   "display_name": "Python 3 (ipykernel)",
   "language": "python",
   "name": "python3"
  },
  "language_info": {
   "codemirror_mode": {
    "name": "ipython",
    "version": 3
   },
   "file_extension": ".py",
   "mimetype": "text/x-python",
   "name": "python",
   "nbconvert_exporter": "python",
   "pygments_lexer": "ipython3",
   "version": "3.10.8"
  }
 },
 "nbformat": 4,
 "nbformat_minor": 5
}
